{
 "cells": [
  {
   "cell_type": "code",
   "execution_count": null,
   "metadata": {},
   "outputs": [],
   "source": [
    "import numpy as np\n",
    "import matplotlib.pyplot as plt\n",
    "import os\n",
    "from astropy.io import ascii\n",
    "from scipy.optimize import curve_fit\n",
    "from astropy.timeseries import LombScargle"
   ]
  },
  {
   "cell_type": "code",
   "execution_count": null,
   "metadata": {},
   "outputs": [],
   "source": [
    "#Define handy functions to be used later\n",
    "def binner(bins, time, flux):\n",
    "    means, errors = [], []\n",
    "    midpoints = [(bins[i] + bins[i+1])/2 for i in range(len(bins)-1)]\n",
    "    for i in range(len(bins)-1):\n",
    "        binned_mask = (time < bins[i+1])*(time > bins[i])\n",
    "        means.append(np.mean(flux[binned_mask]))\n",
    "        errors.append(np.std(flux[binned_mask])/np.sqrt(len(flux[binned_mask])))\n",
    "    return means, errors, midpoints\n",
    "\n",
    "def ringaling(phi,*c):\n",
    "    # c is a numpy array containing an odd number of coeffieicnts\n",
    "    # so that c[0] + c[1]*np.sin(phi) + c[2]*np.cos(phi) + c[3]*np.sin(2*phi) + c[4]*np.cos(2*phi) + .....\n",
    "    c = np.array(c)\n",
    "    npairs = (c.size-1)/2\n",
    "    result = 0\n",
    "    for i in np.arange(npairs):\n",
    "        a_sin = c[((i*2)+1).astype(int)]\n",
    "        a_cos = c[((i*2)+2).astype(int)]\n",
    "        result = result + a_sin*np.sin(phi*(i+1)) + a_cos*np.cos(phi*(i+1))\n",
    "    return result+c[0]"
   ]
  },
  {
   "cell_type": "markdown",
   "metadata": {},
   "source": [
    "## Cleaning the Data"
   ]
  },
  {
   "cell_type": "code",
   "execution_count": null,
   "metadata": {},
   "outputs": [],
   "source": [
    "#Get the data directory\n",
    "cwd = os.getcwd()\n",
    "data_dir = cwd.replace('Figure_3', 'Data\\\\')\n",
    "\n",
    "tess = ascii.read(data_dir + 'J1407_TESS.txt')"
   ]
  },
  {
   "cell_type": "code",
   "execution_count": null,
   "metadata": {},
   "outputs": [],
   "source": [
    "time = tess['col1']\n",
    "flux = tess['col2']\n",
    "eflux = tess['col3']\n",
    "\n",
    "#Remove parts of the flux that are not trusted\n",
    "mask = (time > 1602.2)*(eflux < 1000)*(flux > 100)*(time < 1623) \n",
    "time = time[mask]\n",
    "flux = flux[mask]\n",
    "eflux = eflux[mask]\n",
    "\n",
    "#Remove the central section of flux by eye, as it is contaminated\n",
    "shaky_mask = (time > 1609.2) * (time < 1614.5)\n",
    "time_f = time[~shaky_mask]\n",
    "flux = flux[~shaky_mask]\n",
    "eflux = eflux[~shaky_mask]\n",
    "\n",
    "#Normalise to the median\n",
    "flux_f = flux/np.median(flux)\n",
    "eflux_f = eflux/np.median(flux)\n",
    "\n",
    "#Finally, the remaining, uncorrected flux looks like this, showing the 3.2 day variation very clearly\n",
    "plt.errorbar(time_f, flux_f, eflux_f, fmt='.', markersize= 3, elinewidth=0.5)\n",
    "plt.ylabel('Normalised Flux')\n",
    "plt.xlabel('BJD (Days)')\n",
    "figure = plt.gcf()\n",
    "figure.set_size_inches(9, 6)\n",
    "plt.show()"
   ]
  },
  {
   "cell_type": "markdown",
   "metadata": {},
   "source": [
    "## Removing the Periodic Signals"
   ]
  },
  {
   "cell_type": "code",
   "execution_count": null,
   "metadata": {
    "scrolled": false
   },
   "outputs": [],
   "source": [
    "fig, ax = plt.subplots(1, 2)\n",
    "\n",
    "frequencies = 1/np.linspace(2, 5, 3000)\n",
    "power = LombScargle(time_f, flux_f-np.mean(flux_f), dy = eflux_f).power(frequencies)\n",
    "max_period = 1/frequencies[list(power).index(np.max(power))]\n",
    "print(\"The highest power period is \", '{0:.3f}'.format(max_period), ' days.')\n",
    "\n",
    "\n",
    "ax[0].plot(1/frequencies, power)\n",
    "ax[0].axvline(x = max_period, c= 'r', linestyle = '--')\n",
    "ax[0].set_xlabel(\"Period (Days)\")\n",
    "ax[0].set_ylabel(\"Power (Arbitrary Units)\")\n",
    "ax[0].set_title('Uncorrected periodogram')\n",
    "power_lim = ax[0].set_ylim()\n",
    "\n",
    "#Fold the time data to the highest power signal\n",
    "time_folded = time_f%max_period\n",
    "means, errors, midpoints = binner(np.linspace(0, max_period, 50), time_folded, flux_f) #Bin the time folded data\n",
    "\n",
    "#Fit the ringaling function to the binned data\n",
    "popt, pcov = curve_fit(ringaling, np.array(midpoints)*2*np.pi/(max_period), means, sigma = errors, absolute_sigma = True, p0 = [1,0,0, 1, 1])\n",
    "print(\"The best fit parameters are \", popt)\n",
    "phi = np.arange(200)*2*np.pi / 200\n",
    "\n",
    "#Plot the best fit\n",
    "ax[1].errorbar(time_folded, flux_f, eflux_f, fmt = '.', label = 'data', alpha = 0.2)\n",
    "ax[1].errorbar(midpoints, means, errors, fmt = '.', label = 'binned data', alpha = 0.75, c = 'r')\n",
    "ax[1].set_title('Uncorrected Folded Flux')\n",
    "ax[1].set_xlabel('Folded Time (Days)')\n",
    "ax[1].set_ylabel('Normalised Flux')\n",
    "ax[1].plot(phi*max_period/(2*np.pi), ringaling(phi, *popt), linestyle = '--', c= 'orange', label= 'fit', lw =5)\n",
    "ax[1].legend()\n",
    "fig = plt.gcf()\n",
    "fig.set_size_inches(12, 6)\n",
    "plt.show()\n",
    "\n",
    "#Correct the flux by subtracting the best fit\n",
    "flux_32_corr = flux_f-ringaling(time_folded*2*np.pi/(max_period), *popt) "
   ]
  },
  {
   "cell_type": "code",
   "execution_count": null,
   "metadata": {},
   "outputs": [],
   "source": [
    "#Stil there is some periodicity remaining, so we repeat the above recipe once more\n",
    "\n",
    "fig, ax = plt.subplots(1, 2)\n",
    "\n",
    "frequencies = 1/np.linspace(2, 10, 3000)\n",
    "power = LombScargle(time_f, flux_32_corr-np.mean(flux_32_corr), dy = eflux_f).power(frequencies)\n",
    "max_period = 1/frequencies[list(power).index(np.max(power))]\n",
    "print(\"The highest power period is \", '{0:.3f}'.format(max_period), ' days.')\n",
    "\n",
    "ax[0].plot(1/frequencies, power)\n",
    "ax[0].axvline(x = max_period, c= 'r', linestyle = '--')\n",
    "ax[0].set_ylim(power_lim)\n",
    "ax[0].set_title('3.2 day corrected periodogram')\n",
    "ax[0].set_xlabel(\"Period (Days)\")\n",
    "ax[0].set_ylabel(\"Power (Arbitrary Units)\")\n",
    "\n",
    "time_folded = time_f%max_period\n",
    "means, errors, midpoints = binner(np.linspace(0, max_period, 50), time_folded, flux_32_corr)\n",
    "\n",
    "popt, pcov = curve_fit(ringaling, np.array(midpoints)*2*np.pi/(max_period), means, sigma = errors, absolute_sigma = True, p0 = [1,0,0, 1, 1])\n",
    "print(\"The best fit parameters are \", popt)\n",
    "phi = np.arange(200)*2*np.pi / 200\n",
    "\n",
    "\n",
    "ax[1].errorbar(time_folded, flux_32_corr, eflux_f, fmt = '.', label = 'data', alpha = 0.2)\n",
    "ax[1].errorbar(midpoints, means, errors, fmt = '.', label = 'binned data', alpha = 0.75, c = 'r')\n",
    "ax[1].set_title('3.2 day corrected folded flux')\n",
    "ax[1].set_xlabel('Folded Time (Days)')\n",
    "ax[1].set_ylabel('Normalised Flux')\n",
    "ax[1].plot(phi*max_period/(2*np.pi), ringaling(phi, *popt), linestyle = '--', c= 'orange', label= 'fit', lw =5)\n",
    "ax[1].legend()\n",
    "fig = plt.gcf()\n",
    "fig.set_size_inches(12, 6)\n",
    "plt.show()\n",
    "\n",
    "flux_32et83_corr = flux_32_corr-ringaling(time_folded*2*np.pi/(max_period), *popt) #Again subtract the best fit, removing the final strong signals"
   ]
  },
  {
   "cell_type": "code",
   "execution_count": null,
   "metadata": {},
   "outputs": [],
   "source": [
    "#A nice comparison to observe the removed signal\n",
    "fig, ax = plt.subplots(1, 2, sharey = True)\n",
    "\n",
    "ax[0].errorbar(time_f, flux_f, eflux_f, fmt='.', markersize= 3, elinewidth=0.5)\n",
    "ax[0].set_title(\"Uncorrected TESS\")\n",
    "ax[0].set_xlabel(\"BJD (Days)\")\n",
    "ax[0].set_ylabel(\"Normalised Flux\")\n",
    "figure = plt.gcf()\n",
    "figure.set_size_inches(12, 9)\n",
    "\n",
    "ax[1].errorbar(time_f, flux_32et83_corr+1, eflux_f, fmt='.', markersize= 3, elinewidth=0.5)\n",
    "ax[1].set_xlabel(\"BJD (Days)\")\n",
    "ax[1].set_ylabel(\"Normalised Flux\")\n",
    "ax[1].set_title(\"3.2 and 8.3 day corrected TESS\")\n",
    "figure = plt.gcf()\n",
    "figure.set_size_inches(15, 6)\n",
    "plt.show()"
   ]
  },
  {
   "cell_type": "markdown",
   "metadata": {},
   "source": [
    "## Creating the Figure"
   ]
  },
  {
   "cell_type": "code",
   "execution_count": null,
   "metadata": {},
   "outputs": [],
   "source": [
    "#Create the figure in the paper\n",
    "tess_final = np.zeros((len(time_f), 3))\n",
    "tess_final[:, 0] = time_f\n",
    "tess_final[:, 1] = flux_32et83_corr+1\n",
    "tess_final[:, 2] = eflux_f\n",
    "\n",
    "import matplotlib\n",
    "plt.style.use('seaborn-dark-palette')\n",
    "font = {'family' : 'normal',\n",
    "        'weight' : 'normal',\n",
    "        'size'   : 38}\n",
    "matplotlib.rc('font', **font)\n",
    "\n",
    "#Remove the outliers\n",
    "scat_mask = (tess_final[:, 1] < np.mean(tess_final[:, 1]) + 2*np.std(tess_final[:, 1]))*(tess_final[:, 1] > np.mean(tess_final[:, 1]) - 2*np.std(tess_final[:, 1]))\n",
    "\n",
    "plt.errorbar(tess_final[:, 0][scat_mask]+57000, tess_final[:, 1][scat_mask], tess_final[:, 2][scat_mask], fmt='.', c='r')\n",
    "plt.axhline(y = 1.0, linestyle = '--', c='black')\n",
    "plt.xlabel('MJD (Days)')\n",
    "plt.ylabel(\"Normalised Flux\")\n",
    "figure = plt.gcf()\n",
    "figure.set_size_inches(18, 10)\n",
    "plt.show()"
   ]
  }
 ],
 "metadata": {
  "kernelspec": {
   "display_name": "Python 3",
   "language": "python",
   "name": "python3"
  },
  "language_info": {
   "codemirror_mode": {
    "name": "ipython",
    "version": 3
   },
   "file_extension": ".py",
   "mimetype": "text/x-python",
   "name": "python",
   "nbconvert_exporter": "python",
   "pygments_lexer": "ipython3",
   "version": "3.6.9"
  }
 },
 "nbformat": 4,
 "nbformat_minor": 2
}
