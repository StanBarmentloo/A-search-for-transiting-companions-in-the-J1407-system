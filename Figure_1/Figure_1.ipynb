{
 "cells": [
  {
   "cell_type": "code",
   "execution_count": null,
   "metadata": {},
   "outputs": [],
   "source": [
    "#Imports\n",
    "import numpy as np\n",
    "import os\n",
    "import matplotlib.pyplot as plt\n",
    "from astropy.io.votable import parse\n",
    "from astropy.io import ascii"
   ]
  },
  {
   "cell_type": "code",
   "execution_count": null,
   "metadata": {},
   "outputs": [],
   "source": [
    "#Read in the data\n",
    "\n",
    "#Get the data directory\n",
    "cwd = os.getcwd()\n",
    "data_dir = cwd.replace('Figure_1', 'Data\\\\')\n",
    "                   \n",
    "tess = parse(data_dir + \"TESS.TESS.Red.xml\").get_first_table()\n",
    "asas_g = parse(data_dir + \"SLOAN.SDSS.gprime_filter.xml\").get_first_table()\n",
    "kelt = ascii.read(data_dir + 'kelt_manual.dat')\n",
    "prompt_v = ascii.read(data_dir + 'Bessel_V-1.txt') "
   ]
  },
  {
   "cell_type": "code",
   "execution_count": null,
   "metadata": {},
   "outputs": [],
   "source": [
    "#Plot the different filter curves in a fancy style\n",
    "font = {'family':'normal', 'weight':'normal', 'size':28}\n",
    "plt.rc('font', **font)\n",
    "plt.style.use('seaborn-dark-palette')\n",
    "\n",
    "fig, ax = plt.subplots(1,1, figsize=(10,4))\n",
    "plt.plot(tess.array['Wavelength'],tess.array['Transmission']/np.max(tess.array['Transmission']),label='TESS', c= 'r')\n",
    "plt.plot(asas_g.array['Wavelength'],asas_g.array['Transmission']/np.max(asas_g.array['Transmission']),label='ASAS & ASASSN',c= 'b')\n",
    "plt.plot(kelt['wlen']*10., kelt['tx']/np.max(kelt['tx']),label='KELT',c= 'orange')\n",
    "plt.plot(prompt_v['wlen']*10., prompt_v['tx']/np.max(prompt_v['tx']),label='PROMPT & ROAD',c= 'green')\n",
    "\n",
    "plt.legend(loc = 'upper right', fontsize = 16)\n",
    "plt.xlabel(\"Wavelength (Ångströms)\")\n",
    "plt.ylabel('Transmission')\n",
    "plt.xlim(3500,11000)\n",
    "fig = plt.gcf()\n",
    "fig.set_size_inches(15, 7.5)\n",
    "#plt.savefig('Figure1.pdf')\n",
    "plt.show()"
   ]
  }
 ],
 "metadata": {
  "kernelspec": {
   "display_name": "Python 3",
   "language": "python",
   "name": "python3"
  },
  "language_info": {
   "codemirror_mode": {
    "name": "ipython",
    "version": 3
   },
   "file_extension": ".py",
   "mimetype": "text/x-python",
   "name": "python",
   "nbconvert_exporter": "python",
   "pygments_lexer": "ipython3",
   "version": "3.6.9"
  }
 },
 "nbformat": 4,
 "nbformat_minor": 5
}
