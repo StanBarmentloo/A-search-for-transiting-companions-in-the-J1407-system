{
 "cells": [
  {
   "cell_type": "code",
   "execution_count": null,
   "metadata": {},
   "outputs": [],
   "source": [
    "import numpy as np\n",
    "import matplotlib.pyplot as plt\n",
    "import os\n",
    "\n",
    "from astropy.io import ascii\n",
    "from scipy.optimize import curve_fit\n",
    "from astropy.timeseries import LombScargle"
   ]
  },
  {
   "cell_type": "code",
   "execution_count": null,
   "metadata": {},
   "outputs": [],
   "source": [
    "def ringaling(phi,*c):\n",
    "    # c is a numpy array containing an odd number of coeffieicnts\n",
    "    # so that c[0] + c[1]*np.sin(phi) + c[2]*np.cos(phi) + c[3]*np.sin(2*phi) + c[4]*np.cos(2*phi) + .....\n",
    "    c = np.array(c)\n",
    "    npairs = (c.size-1)/2\n",
    "    result = 0\n",
    "    for i in np.arange(npairs):\n",
    "        a_sin = c[((i*2)+1).astype(int)]\n",
    "        a_cos = c[((i*2)+2).astype(int)]\n",
    "        result = result + a_sin*np.sin(phi*(i+1)) + a_cos*np.cos(phi*(i+1))\n",
    "    return result+c[0]\n",
    "\n",
    "def binner(bins, time, flux):\n",
    "    means, errors = [], []\n",
    "    midpoints = [(bins[i] + bins[i+1])/2 for i in range(len(bins)-1)]\n",
    "    for i in range(len(bins)-1):\n",
    "        binned_mask = (time < bins[i+1])*(time > bins[i])\n",
    "        means.append(np.mean(flux[binned_mask]))\n",
    "        errors.append(np.std(flux[binned_mask])/np.sqrt(len(flux[binned_mask])))\n",
    "    return means, errors, midpoints"
   ]
  },
  {
   "cell_type": "code",
   "execution_count": null,
   "metadata": {},
   "outputs": [],
   "source": [
    "#Get the data directory\n",
    "cwd = os.getcwd()\n",
    "data_dir = cwd.replace('Figure_5', 'Data\\\\')\n",
    "\n",
    "tess = ascii.read(data_dir + 'J1407_TESS.txt')"
   ]
  },
  {
   "cell_type": "code",
   "execution_count": null,
   "metadata": {},
   "outputs": [],
   "source": [
    "time = tess['col1']\n",
    "flux = tess['col2']\n",
    "eflux = tess['col3']\n",
    "\n",
    "#Remove parts of the flux that are not trusted\n",
    "mask = (time > 1602.2)*(eflux < 1000)*(flux > 100)*(time < 1623) \n",
    "time = time[mask]\n",
    "flux = flux[mask]\n",
    "eflux = eflux[mask]\n",
    "\n",
    "#Remove the central section of flux by eye, as it is contaminated\n",
    "shaky_mask = (time > 1609.2) * (time < 1614.5)\n",
    "time_f = time[~shaky_mask]\n",
    "flux = flux[~shaky_mask]\n",
    "eflux = eflux[~shaky_mask]\n",
    "\n",
    "#Normalise to the median\n",
    "flux_f = flux/np.median(flux)\n",
    "eflux_f = eflux/np.median(flux)"
   ]
  },
  {
   "cell_type": "code",
   "execution_count": null,
   "metadata": {
    "scrolled": false
   },
   "outputs": [],
   "source": [
    "#Remove the periodic signals\n",
    "\n",
    "frequencies = 1/np.linspace(2, 5, 3000)\n",
    "org_power = LombScargle(time_f, flux_f-np.mean(flux_f), dy = eflux_f).power(frequencies)\n",
    "max_period = 1/frequencies[list(org_power).index(np.max(org_power))]\n",
    "print(\"The highest power period is \", '{0:.3f}'.format(max_period), ' days.')\n",
    "\n",
    "time_folded = time_f%max_period\n",
    "means, errors, midpoints = binner(np.linspace(0, max_period, 50), time_folded, flux_f)\n",
    "\n",
    "popt, pcov = curve_fit(ringaling, np.array(midpoints)*2*np.pi/(max_period), means, sigma = errors, absolute_sigma = True, p0 = [1,0,0, 1, 1])\n",
    "phi = np.arange(200)*2*np.pi / 200\n",
    "\n",
    "flux_32_corr = flux_f-ringaling(time_folded*2*np.pi/(max_period), *popt)"
   ]
  },
  {
   "cell_type": "code",
   "execution_count": null,
   "metadata": {},
   "outputs": [],
   "source": [
    "#As not all signals are gone, repeat the above recipe\n",
    "\n",
    "corr_frequencies = 1/np.linspace(2, 10, 3000)\n",
    "corr_power = LombScargle(time_f, flux_32_corr-np.mean(flux_32_corr), dy = eflux_f).power(corr_frequencies)\n",
    "corr_max_period = 1/corr_frequencies[list(corr_power).index(np.max(corr_power))]\n",
    "print(\"The highest power period is \", '{0:.3f}'.format(corr_max_period), ' days.')\n",
    "\n",
    "time_folded = time_f%corr_max_period\n",
    "means, errors, midpoints = binner(np.linspace(0, corr_max_period, 50), time_folded, flux_32_corr)\n",
    "\n",
    "popt, pcov = curve_fit(ringaling, np.array(midpoints)*2*np.pi/(corr_max_period), means, sigma = errors, absolute_sigma = True, p0 = [1,0,0, 1, 1])\n",
    "phi = np.arange(200)*2*np.pi / 200\n",
    "\n",
    "flux_32et83_corr = flux_32_corr-ringaling(time_folded*2*np.pi/(corr_max_period), *popt)"
   ]
  },
  {
   "cell_type": "code",
   "execution_count": null,
   "metadata": {},
   "outputs": [],
   "source": [
    "#Determine the periodogram after the two corrections\n",
    "\n",
    "final_frequencies = 1/np.linspace(2, 10, 3000)\n",
    "final_power = LombScargle(time_f, flux_32et83_corr-np.mean(flux_32et83_corr), dy = eflux_f).power(final_frequencies)\n",
    "final_max_period = 1/final_frequencies[list(final_power).index(np.max(final_power))]\n",
    "print(\"The highest power period is \", '{0:.3f}'.format(final_max_period), ' days.')\n",
    "\n",
    "\n",
    "import matplotlib\n",
    "plt.style.use('seaborn-dark-palette')\n",
    "font = {'family' : 'normal',\n",
    "        'weight' : 'normal',\n",
    "        'size'   : 14}\n",
    "matplotlib.rc('font', **font)\n",
    "\n",
    "\n",
    "plt.plot(1/frequencies, org_power, label='Pre-correction TESS', color='grey')\n",
    "plt.plot(1/final_frequencies, final_power, label='Post-correction TESS')\n",
    "plt.legend()\n",
    "plt.xlabel('Signal Period (Days)')\n",
    "plt.ylabel('Signal Power')\n",
    "plt.tight_layout()\n",
    "plt.savefig('TESS_periodogram.pdf')\n",
    "plt.show()"
   ]
  }
 ],
 "metadata": {
  "kernelspec": {
   "display_name": "Python 3",
   "language": "python",
   "name": "python3"
  },
  "language_info": {
   "codemirror_mode": {
    "name": "ipython",
    "version": 3
   },
   "file_extension": ".py",
   "mimetype": "text/x-python",
   "name": "python",
   "nbconvert_exporter": "python",
   "pygments_lexer": "ipython3",
   "version": "3.6.9"
  }
 },
 "nbformat": 4,
 "nbformat_minor": 2
}
