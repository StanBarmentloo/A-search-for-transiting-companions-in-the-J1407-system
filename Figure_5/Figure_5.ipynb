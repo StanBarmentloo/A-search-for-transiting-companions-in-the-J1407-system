{
 "cells": [
  {
   "cell_type": "code",
   "execution_count": null,
   "metadata": {},
   "outputs": [],
   "source": [
    "import numpy as np\n",
    "import matplotlib.pyplot as plt\n",
    "import os\n",
    "\n",
    "from numpy import savetxt\n",
    "from astropy.io import ascii\n",
    "from astropy.time import Time\n",
    "from scipy.optimize import curve_fit\n",
    "from astropy.timeseries import LombScargle\n",
    "from scipy.stats import median_absolute_deviation\n",
    "\n",
    "from collections import deque\n",
    "from bisect import insort, bisect_left\n",
    "from itertools import islice"
   ]
  },
  {
   "cell_type": "code",
   "execution_count": null,
   "metadata": {},
   "outputs": [],
   "source": [
    "clip_distance, window_size = 0.1, 12\n",
    "def running_median_insort(seq, window_size):\n",
    "    \"\"\"Contributed by Peter Otten\"\"\"\n",
    "    seq = iter(seq)\n",
    "    d = deque()\n",
    "    s = []\n",
    "    result = []\n",
    "    for item in islice(seq, window_size):\n",
    "        d.append(item)\n",
    "        insort(s, item)\n",
    "        result.append(s[len(d)//2])\n",
    "    m = window_size // 2\n",
    "    for item in seq:\n",
    "        old = d.popleft()\n",
    "        d.append(item)\n",
    "        del s[bisect_left(s, old)]\n",
    "        insort(s, item)\n",
    "        result.append(s[m])\n",
    "    return result\n",
    "\n",
    "def binner(bins, time, flux):\n",
    "    means, errors = [], []\n",
    "    midpoints = [(bins[i] + bins[i+1])/2 for i in range(len(bins)-1)]\n",
    "    for i in range(len(bins)-1):\n",
    "        binned_mask = (time < bins[i+1])*(time > bins[i])\n",
    "        means.append(np.mean(flux[binned_mask]))\n",
    "        errors.append(np.std(flux[binned_mask])/np.sqrt(len(flux[binned_mask])))\n",
    "    return means, errors, midpoints"
   ]
  },
  {
   "cell_type": "markdown",
   "metadata": {},
   "source": [
    "## Normalising it all"
   ]
  },
  {
   "cell_type": "code",
   "execution_count": null,
   "metadata": {},
   "outputs": [],
   "source": [
    "#Get the data directory\n",
    "cwd = os.getcwd()\n",
    "data_dir = cwd.replace('Figure_5', 'Data\\\\')\n",
    "\n",
    "tess = ascii.read(data_dir + 'J1407_TESS.txt')"
   ]
  },
  {
   "cell_type": "code",
   "execution_count": null,
   "metadata": {},
   "outputs": [],
   "source": [
    "time = tess['col1']\n",
    "flux = tess['col2']\n",
    "eflux = tess['col3']\n",
    "\n",
    "mask = (time > 1602.2)*(eflux < 1000)*(flux > 100)*(time < 1623) \n",
    "\n",
    "time = time[mask]\n",
    "flux = flux[mask]\n",
    "eflux = eflux[mask]\n",
    "\n",
    "shaky_mask = (time > 1609.2) * (time < 1614.5) #The earth reflection happens here\n",
    "time = time[~shaky_mask]\n",
    "flux = flux[~shaky_mask]\n",
    "eflux = eflux[~shaky_mask]\n",
    "\n",
    "flux_norm = flux/np.median(flux)\n",
    "eflux_norm = eflux/np.median(flux)\n",
    "\n",
    "time_fu = time\n",
    "flux_fu = flux_norm\n",
    "eflux_fu = eflux_norm\n",
    "\n",
    "fu_sorted = sorted(flux_fu)\n",
    "cdf = np.cumsum(fu_sorted)/np.cumsum(fu_sorted)[-1]\n",
    "lower, upper = np.interp([0.05, 0.95], cdf, fu_sorted)\n",
    "print(\"The amplitude is \", '{0:.4f}'.format((upper-lower)/2))"
   ]
  },
  {
   "cell_type": "markdown",
   "metadata": {},
   "source": [
    "## Median Clipping"
   ]
  },
  {
   "cell_type": "code",
   "execution_count": null,
   "metadata": {},
   "outputs": [],
   "source": [
    "median_mask = (flux_fu > running_median_insort(flux_fu, window_size)+ np.array([clip_distance]*len(flux_fu)))\n",
    "time_f, flux_f, eflux_f = time_fu[~median_mask], flux_fu[~median_mask], eflux_fu[~median_mask]\n",
    "\n",
    "print(\"Scatter is\", np.std(flux_f))"
   ]
  },
  {
   "cell_type": "code",
   "execution_count": null,
   "metadata": {},
   "outputs": [],
   "source": [
    "# find a0,a1,a2,a3,a4 that is the best fit to the plot above\n",
    "\n",
    "def ringaling(phi,*c):\n",
    "    # c is a numpy array containing an odd number of coeffieicnts\n",
    "    # so that c[0] + c[1]*np.sin(phi) + c[2]*np.cos(phi) + c[3]*np.sin(2*phi) + c[4]*np.cos(2*phi) + .....\n",
    "    #if (c.size%2 == 0):\n",
    "    #    print('whoa! we need an odd number of coefficients in c')\n",
    "    #    return 1\n",
    "    c = np.array(c)\n",
    "    npairs = (c.size-1)/2\n",
    "    result = 0\n",
    "    for i in np.arange(npairs):\n",
    "        a_sin = c[((i*2)+1).astype(int)]\n",
    "        a_cos = c[((i*2)+2).astype(int)]\n",
    "        result = result + a_sin*np.sin(phi*(i+1)) + a_cos*np.cos(phi*(i+1))\n",
    "    return result+c[0]"
   ]
  },
  {
   "cell_type": "code",
   "execution_count": null,
   "metadata": {
    "scrolled": false
   },
   "outputs": [],
   "source": [
    "frequencies = 1/np.linspace(2, 5, 3000)\n",
    "power = LombScargle(time_f, flux_f-np.mean(flux_f), dy = eflux_f).power(frequencies)\n",
    "max_period = 1/frequencies[list(power).index(np.max(power))]\n",
    "print(\"The highest power period is \", '{0:.3f}'.format(max_period), ' days.')\n",
    "\n",
    "time_folded = time_f%max_period\n",
    "means, errors, midpoints = binner(np.linspace(0, max_period, 50), time_folded, flux_f)\n",
    "\n",
    "popt, pcov = curve_fit(ringaling, np.array(midpoints)*2*np.pi/(max_period), means, sigma = errors, absolute_sigma = True, p0 = [1,0,0, 1, 1])\n",
    "print(\"The best fit parameters are \", popt)\n",
    "phi = np.arange(200)*2*np.pi / 200\n",
    "\n",
    "print(np.max(ringaling(phi, *popt)), np.min(ringaling(phi, *popt)))\n",
    "\n",
    "flux_32_corr = flux_f-ringaling(time_folded*2*np.pi/(max_period), *popt)\n",
    "\n",
    "#Unbinned fit [ 0.98553516 -0.02888544  0.03155577  0.00963583 -0.00272195]\n",
    "#Binned fit [ 0.98650794 -0.02922539  0.03292504  0.00910987 -0.00141807]"
   ]
  },
  {
   "cell_type": "code",
   "execution_count": null,
   "metadata": {},
   "outputs": [],
   "source": [
    "frequencies = 1/np.linspace(2, 10, 3000)\n",
    "power = LombScargle(time_f, flux_32_corr-np.mean(flux_32_corr), dy = eflux_f).power(frequencies)\n",
    "max_period = 1/frequencies[list(power).index(np.max(power))]\n",
    "print(\"The highest power period is \", '{0:.3f}'.format(max_period), ' days.')\n",
    "\n",
    "time_folded = time_f%max_period\n",
    "means, errors, midpoints = binner(np.linspace(0, max_period, 50), time_folded, flux_32_corr)\n",
    "\n",
    "popt, pcov = curve_fit(ringaling, np.array(midpoints)*2*np.pi/(max_period), means, sigma = errors, absolute_sigma = True, p0 = [1,0,0, 1, 1])\n",
    "print(\"The best fit parameters are \", popt)\n",
    "phi = np.arange(200)*2*np.pi / 200\n",
    "\n",
    "#Unbinned fit [ 9.99227834e-01  1.52563563e-03  9.68944419e-03 -4.21332667e-03 8.50444969e-04]\n",
    "#Binned fit [ 1.00060393e+00  8.86011777e-04  9.98378584e-03 -3.15840939e-03 1.58680762e-04]\n",
    "\n",
    "flux_32et42_corr = flux_32_corr-ringaling(time_folded*2*np.pi/(max_period), *popt)"
   ]
  },
  {
   "cell_type": "code",
   "execution_count": null,
   "metadata": {},
   "outputs": [],
   "source": [
    "frequencies = 1/np.linspace(2, 10, 3000)\n",
    "power = LombScargle(time_f, flux_32et42_corr-np.mean(flux_32et42_corr), dy = eflux_f).power(frequencies)\n",
    "max_period = 1/frequencies[list(power).index(np.max(power))]\n",
    "print(\"The highest power period is \", '{0:.3f}'.format(max_period), ' days.')\n",
    "\n",
    "time_folded = time_f%max_period\n",
    "means, errors, midpoints = binner(np.linspace(0, max_period, 50), time_folded, flux_32et42_corr)\n",
    "\n",
    "popt, pcov = curve_fit(ringaling, time_folded*2*np.pi/(max_period), flux_32et42_corr, sigma = eflux_f, absolute_sigma = True, p0 = [1,0,0, 1, 1])\n",
    "print(\"The best fit parameters are \", popt)\n",
    "phi = np.arange(200)*2*np.pi / 200\n"
   ]
  },
  {
   "cell_type": "code",
   "execution_count": null,
   "metadata": {},
   "outputs": [],
   "source": [
    "frequencies_corr = 1/np.linspace(2, 10, 3000)\n",
    "power_corr = LombScargle(time_f, flux_32et42_corr-np.mean(flux_32et42_corr), dy = eflux_f).power(frequencies_corr)\n",
    "max_period_corr = 1/frequencies_corr[list(power).index(np.max(power))]\n",
    "print(\"The highest power period is \", '{0:.3f}'.format(max_period_corr), ' days.')\n",
    "\n",
    "frequencies = 1/np.linspace(2, 10, 3000)\n",
    "power = LombScargle(time_f, flux_f-np.mean(flux_f), dy = eflux_f).power(frequencies)\n",
    "max_period = 1/frequencies[list(power).index(np.max(power))]\n",
    "print(\"The highest power period is \", '{0:.3f}'.format(max_period), ' days.')\n",
    "\n",
    "\n",
    "import matplotlib\n",
    "plt.style.use('seaborn-dark-palette')\n",
    "font = {'family' : 'normal',\n",
    "        'weight' : 'normal',\n",
    "        'size'   : 14}\n",
    "matplotlib.rc('font', **font)\n",
    "\n",
    "\n",
    "plt.plot(1/frequencies, power, label='Pre-correction TESS', color='grey')\n",
    "#power_lim = plt.set_ylim()\n",
    "\n",
    "plt.plot(1/frequencies_corr, power_corr, label='Post-correction TESS')\n",
    "#plt.set_ylim(power_lim)\n",
    "plt.legend()\n",
    "plt.xlabel('Signal Period (Days)')\n",
    "plt.ylabel('Signal Power (Arbitrary Units)')\n",
    "#plt.title('Tess periodogram')\n",
    "plt.tight_layout()\n",
    "#plt.savefig('TESS_periodogram.pdf')"
   ]
  }
 ],
 "metadata": {
  "kernelspec": {
   "display_name": "Python 3",
   "language": "python",
   "name": "python3"
  },
  "language_info": {
   "codemirror_mode": {
    "name": "ipython",
    "version": 3
   },
   "file_extension": ".py",
   "mimetype": "text/x-python",
   "name": "python",
   "nbconvert_exporter": "python",
   "pygments_lexer": "ipython3",
   "version": "3.6.9"
  }
 },
 "nbformat": 4,
 "nbformat_minor": 2
}
