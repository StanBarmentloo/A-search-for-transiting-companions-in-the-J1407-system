{
 "cells": [
  {
   "cell_type": "code",
   "execution_count": null,
   "metadata": {},
   "outputs": [],
   "source": [
    "import numpy as np\n",
    "import os\n",
    "import matplotlib.pyplot as plt\n",
    "import spotter\n",
    "from astropy.io import ascii"
   ]
  },
  {
   "cell_type": "code",
   "execution_count": null,
   "metadata": {},
   "outputs": [],
   "source": [
    "#Get the data directory\n",
    "cwd = os.getcwd()\n",
    "data_dir = cwd.replace('Figure_7', 'Data\\\\')\n",
    "\n",
    "data = ascii.read(data_dir + 'Final_Combined_Data.csv')\n",
    "err_mask = (data['col3'] < 0.05) #Removing measurements with high uncertainty\n",
    "data = data[err_mask]\n",
    "\n",
    "time = data['col1']\n",
    "flux = data['col2']\n",
    "e_flux = data['col3']"
   ]
  },
  {
   "cell_type": "code",
   "execution_count": null,
   "metadata": {},
   "outputs": [],
   "source": [
    "#Running the transit search via the spotter.py module\n",
    "\n",
    "# main input: times, transit_flux, yerr, min_p, max_p, plot, stats, add_transit, transit_params\n",
    "#transit_params input: planet radius (jupiter radii), t_inferior_conjunction, orbital period (days), stellar mass (kg), stellar radius (m), inclination (degrees), eccentricity, longitude of periastron (degrees)\n",
    "\n",
    "transit_params = [2.0, 2.65, 10.0, 0.95*1.989*10**30, 0.96*6.96*10**8, 90, 0, 90] \n",
    "results = spotter.main(time, flux, e_flux, 3, 40, True, True, False, transit_params) "
   ]
  },
  {
   "cell_type": "code",
   "execution_count": null,
   "metadata": {},
   "outputs": [],
   "source": [
    "import matplotlib\n",
    "plt.style.use('seaborn-dark-palette')\n",
    "font = {'family' : 'normal',\n",
    "        'weight' : 'normal',\n",
    "        'size'   : 28}\n",
    "matplotlib.rc('font', **font)\n",
    "\n",
    "fig, axs = plt.subplots(2, 1)\n",
    "\n",
    "plt.figure()\n",
    "axs[0].axvline(results[2].period, alpha=0.4, lw=3, label='SDE Maximum', color='red')\n",
    "for n in range(2, 10):\n",
    "    axs[0].axvline(n*results[2].period, alpha=0.4, lw=1, linestyle=\"dashed\")\n",
    "    axs[0].axvline(results[2].period / n, alpha=0.4, lw=1, linestyle=\"dashed\")\n",
    "    if n == 9:\n",
    "        axs[0].axvline(n*results[2].period, alpha=0.4, lw=1, linestyle=\"dashed\", label='Resonances')\n",
    "    \n",
    "axs[0].set_ylabel(r'SDE')\n",
    "axs[0].set_xlabel('Orbital Period (days)')\n",
    "axs[0].plot(results[2].periods, results[2].power, color='black', lw=0.5)\n",
    "axs[0].set_xlim(np.min(results[2].periods), np.max(results[2].periods))\n",
    "axs[0].legend(loc = 'upper right', fontsize=18)\n",
    "            \n",
    "axs[1].plot(results[2].model_folded_phase, results[2].model_folded_model, color='red', label ='Model')\n",
    "axs[1].errorbar(results[2].folded_phase, results[2].folded_y, fmt='.', color='blue', alpha=0.5, zorder=2, label='Period Folded Data') #Might error here\n",
    "axs[1].set_xlim(0.45, 0.55)\n",
    "axs[1].set_xlabel('Phase')\n",
    "axs[1].set_ylabel('Normalised flux', fontsize = 25)\n",
    "axs[1].legend(fontsize=18)\n",
    "\n",
    "fig.set_size_inches(12, 8)\n",
    "#fig.savefig('Ground_Based_search.pdf')            \n",
    "plt.show()"
   ]
  }
 ],
 "metadata": {
  "kernelspec": {
   "display_name": "Python 3",
   "language": "python",
   "name": "python3"
  },
  "language_info": {
   "codemirror_mode": {
    "name": "ipython",
    "version": 3
   },
   "file_extension": ".py",
   "mimetype": "text/x-python",
   "name": "python",
   "nbconvert_exporter": "python",
   "pygments_lexer": "ipython3",
   "version": "3.6.9"
  }
 },
 "nbformat": 4,
 "nbformat_minor": 2
}
