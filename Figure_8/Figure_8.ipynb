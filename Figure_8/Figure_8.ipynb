{
 "cells": [
  {
   "cell_type": "code",
   "execution_count": null,
   "metadata": {},
   "outputs": [],
   "source": [
    "#Sensitivity Plot Data Clicker\n",
    "import numpy as np\n",
    "import matplotlib.pyplot as plt\n",
    "import os\n",
    "plt.style.use('seaborn-dark-palette')\n",
    "import pandas as pd\n",
    "import seaborn\n",
    "from astropy.io import ascii"
   ]
  },
  {
   "cell_type": "code",
   "execution_count": null,
   "metadata": {},
   "outputs": [],
   "source": [
    "#Get the data directory and load in the data\n",
    "cwd = os.getcwd()\n",
    "data_dir = cwd.replace('Figure_8', 'Data\\\\')\n",
    "\n",
    "detec0, detec1, detec2, detec3, detec4 = ascii.read(data_dir + 'detections_fig_8_set_0.csv'), ascii.read(data_dir + 'detections_fig_8_set_1.csv'), ascii.read(data_dir + 'detections_fig_8_set_2.csv'), ascii.read(data_dir + 'detections_fig_8_set_3.csv'), ascii.read(data_dir + 'detections_fig_8_set_4.csv')\n",
    "detec5, detec6, detec7, detec8, detec9 = ascii.read(data_dir + 'detections_fig_8_set_5.csv'), ascii.read(data_dir + 'detections_fig_8_set_6.csv'), ascii.read(data_dir + 'detections_fig_8_set_7.csv'), ascii.read(data_dir + 'detections_fig_8_set_8.csv'), ascii.read(data_dir + 'detections_fig_8_set_9.csv')\n",
    "\n",
    "detec = [detec0, detec1, detec2, detec3, detec4, detec5, detec6, detec7, detec8, detec9]\n",
    "\n",
    "detec_array = np.zeros((11, 100))\n",
    "\n",
    "for k in range(len(detec)):\n",
    "    for i in range(11):\n",
    "        for j in range(10):\n",
    "            name = 'col' + str(j+1)\n",
    "            detec_array[i, k*10+j] = detec[k][name][i]"
   ]
  },
  {
   "cell_type": "code",
   "execution_count": null,
   "metadata": {},
   "outputs": [],
   "source": [
    "#Make the array suitable for a heatmap\n",
    "period_space = np.logspace(np.log10(3), np.log10(40), 100)\n",
    "lin_period_space = np.linspace(3, 40, 10000)\n",
    "\n",
    "new_detec = np.zeros((11, len(lin_period_space)))\n",
    "for i in range(len(lin_period_space)):\n",
    "    idx = np.argmin(abs(period_space - lin_period_space[i]))\n",
    "    new_detec[:, i] = detec_array[:, idx]"
   ]
  },
  {
   "cell_type": "code",
   "execution_count": null,
   "metadata": {
    "scrolled": false
   },
   "outputs": [],
   "source": [
    "#Make the heatmap plot\n",
    "\n",
    "import matplotlib\n",
    "font = { 'weight':'normal', 'size':42}\n",
    "plt.rc('font', **font)\n",
    "\n",
    "periods = []\n",
    "for i in range(len(lin_period_space)):\n",
    "    periods.append('{:.1f}'.format(lin_period_space[i]))\n",
    "radii = [0.5, 0.65, 0.8, 0.95, 1.1, 1.25, 1.4, 1.55, 1.7, 1.85, 2]\n",
    "\n",
    "alt_detec = pd.DataFrame(new_detec, index = radii, columns = periods)\n",
    "\n",
    "ax_detec = seaborn.heatmap(alt_detec, cbar_kws = {'label': 'Number of Retrievals', 'orientation' : 'horizontal'}, xticklabels = 540, yticklabels = 1)\n",
    "\n",
    "plt.gca().invert_yaxis()\n",
    "plt.ylabel('Planetary Radius ($R_{Jup}$)', fontsize=40)\n",
    "\n",
    "plt.xlabel('Orbital Period (Days)', labelpad=20, fontsize=40, y=10)\n",
    "\n",
    "fig = plt.gcf()\n",
    "fig.set_size_inches(18, 18)\n",
    "plt.tight_layout()\n",
    "#plt.savefig('j1407_real_results_w_mr_NR.png')\n",
    "plt.show()"
   ]
  }
 ],
 "metadata": {
  "kernelspec": {
   "display_name": "Python 3",
   "language": "python",
   "name": "python3"
  },
  "language_info": {
   "codemirror_mode": {
    "name": "ipython",
    "version": 3
   },
   "file_extension": ".py",
   "mimetype": "text/x-python",
   "name": "python",
   "nbconvert_exporter": "python",
   "pygments_lexer": "ipython3",
   "version": "3.6.9"
  }
 },
 "nbformat": 4,
 "nbformat_minor": 2
}
