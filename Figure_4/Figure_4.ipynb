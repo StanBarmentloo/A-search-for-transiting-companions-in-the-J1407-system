{
 "cells": [
  {
   "cell_type": "code",
   "execution_count": null,
   "metadata": {},
   "outputs": [],
   "source": [
    "import numpy as np\n",
    "import matplotlib.pyplot as plt\n",
    "import butcher\n",
    "import bro\n",
    "import os\n",
    "\n",
    "from astropy.io import ascii\n",
    "from astropy.timeseries import LombScargle"
   ]
  },
  {
   "cell_type": "code",
   "execution_count": null,
   "metadata": {},
   "outputs": [],
   "source": [
    "#Reading in the data\n",
    "\n",
    "#Get the data directory\n",
    "cwd = os.getcwd()\n",
    "data_dir = cwd.replace('Figure_4', 'Data\\\\')\n",
    "\n",
    "#ASAS data\n",
    "orgasas_data = ascii.read(data_dir + 'asas.csv')\n",
    "asas_mask = (orgasas_data['emag'] < 0.05)\n",
    "asas_data = orgasas_data[asas_mask]\n",
    "\n",
    "asas_flux = butcher.mag_to_flux(asas_data['mag'])\n",
    "asas_eflux = butcher.emag_to_eflux(asas_data['mag'], asas_data['emag'])\n",
    "\n",
    "#ASASSN data\n",
    "orgasassn_data = ascii.read(data_dir + 'asassn.csv')\n",
    "asassn_mask = (orgasassn_data['emag'] < 0.05)\n",
    "asassn_data = orgasassn_data[asassn_mask]\n",
    "\n",
    "asassn_flux = butcher.mag_to_flux(asassn_data['mag'])\n",
    "asassn_eflux = butcher.emag_to_eflux(asassn_data['mag'], asassn_data['emag'])\n",
    "\n",
    "#KELT data\n",
    "orgkelt_data = ascii.read(data_dir + 'kelt.csv')\n",
    "kelt_mask = (orgkelt_data['emag'] < 0.05)\n",
    "kelt_data = orgkelt_data[kelt_mask]\n",
    "\n",
    "kelt_flux = butcher.mag_to_flux(kelt_data['mag'])\n",
    "kelt_eflux = butcher.emag_to_eflux(kelt_data['mag'], kelt_data['emag'])\n",
    "\n",
    "#PROMPT data\n",
    "orgprompt_data = ascii.read(data_dir + 'prompt.csv') #time is JD-2450000\n",
    "prompt_mask = (orgprompt_data['emag'] < 0.05)\n",
    "prompt_data = orgprompt_data[prompt_mask]\n",
    "\n",
    "prompt_flux = butcher.mag_to_flux(prompt_data['mag'])\n",
    "prompt_eflux = butcher.emag_to_eflux(prompt_data['mag'], prompt_data['emag'])\n",
    "\n",
    "#ROAD data\n",
    "orgroad_data = ascii.read(data_dir + 'road.csv') #time is JD-2450000\n",
    "road_mask = (orgroad_data['emag'] < 0.05)\n",
    "road_data = orgroad_data[road_mask]\n",
    "\n",
    "road_flux = butcher.mag_to_flux(road_data['mag'])\n",
    "road_eflux = butcher.emag_to_eflux(road_data['mag'], road_data['emag'])"
   ]
  },
  {
   "cell_type": "code",
   "execution_count": null,
   "metadata": {},
   "outputs": [],
   "source": [
    "#Correct for the long term flux decrease mentioned in section 3.1\n",
    "\n",
    "asas_flux = butcher.long_correct(asas_data['MJD'], asas_flux, asas_eflux)\n",
    "asassn_flux = butcher.long_correct(asassn_data['MJD'], asassn_flux, asassn_eflux)\n",
    "kelt_flux = butcher.long_correct(kelt_data['HJD'], kelt_flux, kelt_eflux)\n",
    "prompt_flux = butcher.long_correct(prompt_data['HJD'], prompt_flux, prompt_eflux)\n",
    "road_flux = butcher.long_correct(road_data['HJD'], road_flux, road_eflux)"
   ]
  },
  {
   "cell_type": "code",
   "execution_count": null,
   "metadata": {
    "scrolled": true
   },
   "outputs": [],
   "source": [
    "#Store the individual telescopes in lists\n",
    "\n",
    "times = [asas_data['MJD'], asassn_data['MJD'], kelt_data['HJD'], prompt_data['HJD'], road_data['HJD']]\n",
    "fluxes = [asas_flux, asassn_flux, kelt_flux, prompt_flux, road_flux]\n",
    "uncertainties = [asas_eflux, asassn_eflux, kelt_eflux, prompt_eflux, road_eflux]\n",
    "names = ['ASAS', 'ASAS-SN', 'KELT', 'PROMPT', 'ROAD']"
   ]
  },
  {
   "cell_type": "code",
   "execution_count": null,
   "metadata": {
    "scrolled": false
   },
   "outputs": [],
   "source": [
    "#Remove the periodicities\n",
    "\n",
    "names = ['ASAS', 'ASASSN', 'KELT', 'PROMPT', 'ROAD']\n",
    "org_powers, powers2 = [], []\n",
    "\n",
    "for j in range(5):\n",
    "    time, flux, eflux = times[j], fluxes[j], uncertainties[j]\n",
    "\n",
    "    corrflux1, periods1, freq1, power1 = bro.short_correct(time, flux, eflux, min_chunk_size = 10)\n",
    "\n",
    "    #Get the uncorrected lombscargle\n",
    "    frequencies = 1/np.linspace(2, 10, 3000)\n",
    "    org_power = LombScargle(time, flux-np.mean(flux), dy = eflux).power(frequencies)\n",
    "    \n",
    "    #Get the doubly bro corrected lombscargle\n",
    "    corrflux2, periods2, freq2, power2 = bro.short_correct(time, corrflux1, eflux, min_chunk_size = 10)\n",
    "    frequencies = 1/np.linspace(2, 10, 3000)\n",
    "    power2 = LombScargle(time, corrflux2-np.mean(corrflux2), dy = eflux).power(frequencies)\n",
    "    \n",
    "    org_powers.append(org_power)\n",
    "    powers2.append(power2)"
   ]
  },
  {
   "cell_type": "code",
   "execution_count": null,
   "metadata": {},
   "outputs": [],
   "source": [
    "#Create the figure \n",
    "\n",
    "import matplotlib\n",
    "plt.style.use('seaborn-dark-palette')\n",
    "font = {'family' : 'normal',\n",
    "        'weight' : 'normal',\n",
    "        'size'   : 20}\n",
    "matplotlib.rc('font', **font)\n",
    "\n",
    "fig, ax = plt.subplots(5)\n",
    "for i in range(5):\n",
    "    ax[i].plot(1/frequencies, org_powers[i], alpha = 0.7, c='grey', label = 'Pre-Correction ' + names[i])\n",
    "    ax[i].plot(1/frequencies, powers2[i], alpha = 0.7,label = 'Post-Correction ' + names[i])\n",
    "    ax[i].legend(fontsize = 18)\n",
    "\n",
    "fig.text(0.35, 0.09, 'Signal Period (Days)', fontsize = 24)\n",
    "fig.text(0.02, 0.35, 'Signal Power (Arbitrary Units)', rotation = 90, fontsize = 24)\n",
    "fig = plt.gcf()\n",
    "fig.set_size_inches(12,20)\n",
    "#plt.savefig('Removing_Dominant_Cycle.pdf')\n",
    "plt.show()"
   ]
  }
 ],
 "metadata": {
  "kernelspec": {
   "display_name": "Python 3",
   "language": "python",
   "name": "python3"
  },
  "language_info": {
   "codemirror_mode": {
    "name": "ipython",
    "version": 3
   },
   "file_extension": ".py",
   "mimetype": "text/x-python",
   "name": "python",
   "nbconvert_exporter": "python",
   "pygments_lexer": "ipython3",
   "version": "3.6.9"
  }
 },
 "nbformat": 4,
 "nbformat_minor": 2
}
